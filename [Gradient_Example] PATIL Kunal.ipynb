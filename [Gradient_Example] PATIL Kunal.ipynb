{
 "cells": [
  {
   "cell_type": "markdown",
   "metadata": {},
   "source": [
    "# Exam/Project  \n",
    "## MSc AIS July 2020\n",
    "## Deadline July, 30, 23h59.\n",
    "### A simple example  of a gradient descent method  by hand (batch  method)"
   ]
  },
  {
   "cell_type": "markdown",
   "metadata": {},
   "source": [
    "#  PATIL Kunal"
   ]
  },
  {
   "cell_type": "code",
   "execution_count": 112,
   "metadata": {
    "pycharm": {
     "is_executing": false
    }
   },
   "outputs": [],
   "source": [
    "import numpy as np\n",
    "import random\n",
    "import sklearn\n",
    "from sklearn.datasets.samples_generator import make_regression \n",
    "import pylab\n",
    "from scipy import stats"
   ]
  },
  {
   "cell_type": "markdown",
   "metadata": {},
   "source": [
    "### We're going to solve a  Least Squares Problem with a cost function defined as following: "
   ]
  },
  {
   "cell_type": "code",
   "execution_count": 5,
   "metadata": {
    "pycharm": {
     "is_executing": false
    }
   },
   "outputs": [
    {
     "data": {
      "text/latex": [
       "$$J(\\Theta)=\\frac{1}{2*m} \\sum_{i=1}^{m} (h_\\Theta(x_i)−y_i)^2$$\n"
      ],
      "text/plain": [
       "<IPython.core.display.Latex object>"
      ]
     },
     "metadata": {},
     "output_type": "display_data"
    }
   ],
   "source": [
    "%%latex\n",
    "$$J(\\Theta)=\\frac{1}{2*m} \\sum_{i=1}^{m} (h_\\Theta(x_i)−y_i)^2$$"
   ]
  },
  {
   "cell_type": "markdown",
   "metadata": {},
   "source": [
    "### where \n",
    "### i) x_i is the ith sample\n",
    "### ii) m is the total number of training examples \n",
    "#### and hθ(x(i)) is the hypothesis function defined like this:"
   ]
  },
  {
   "cell_type": "code",
   "execution_count": 6,
   "metadata": {
    "pycharm": {
     "is_executing": false
    }
   },
   "outputs": [
    {
     "data": {
      "text/latex": [
       "$$h_\\Theta(x_i)=\\Theta_0  + \\Theta_1 x_i$$\n",
       "###### Constant (intercept) and Slope\n"
      ],
      "text/plain": [
       "<IPython.core.display.Latex object>"
      ]
     },
     "metadata": {},
     "output_type": "display_data"
    }
   ],
   "source": [
    "%%latex\n",
    "$$h_\\Theta(x_i)=\\Theta_0  + \\Theta_1 x_i$$\n",
    "###### Constant (intercept) and Slope"
   ]
  },
  {
   "cell_type": "code",
   "execution_count": 198,
   "metadata": {
    "pycharm": {
     "is_executing": false
    }
   },
   "outputs": [],
   "source": [
    "def Gradient_Method(alpha, x, y, eps=0.0001, max_iter=1000, steps=10):\n",
    "    HasConverged = False\n",
    "    iter = 0\n",
    "    m = x.shape[0] # number of samples\n",
    "\n",
    "    print(\"Number of Samples:\", m)\n",
    "\n",
    "    # initial value for theta  : chosen randomly\n",
    "    # Theta=(Theta0[0],Theta1[0]) in IR^2\n",
    "    # Theta0[0] -> t0 in IR\n",
    "    # Theta1[0] -> t1 in IR\n",
    "    t0 = np.random.random(x.shape[1])\n",
    "    t1 = np.random.random(x.shape[1])\n",
    "    print(\"Initial Value of Thetao[0] =\", t0)\n",
    "    print(\"Initial Value of Theta1[0] =\", t1)\n",
    "\n",
    "    # The total error, J(theta)  is defined as\n",
    "    J = sum([(t0 + t1*x[i] - y[i])**2 for i in range(m)])\n",
    "    print(\"Total Initial Error J: \", J)\n",
    "\n",
    "    # The Iteration Loop\n",
    "    while not HasConverged:\n",
    "        # for each training sample, compute the gradient (d/d_theta j(theta))\n",
    "        # following: \n",
    "        \n",
    "        grad0 = 1.0/m * sum([(t0 + t1*x[i] - y[i]) for i in range(m)]) \n",
    "        grad1 = 1.0/m * sum([(t0 + t1*x[i] - y[i])*x[i] for i in range(m)])\n",
    "\n",
    "        # We update the theta_temp\n",
    "        temp0 = t0 - alpha * grad0        \n",
    "        temp1 = t1 - alpha * grad1\n",
    "\n",
    "\n",
    "        # We update theta\n",
    "        t0 = temp0\n",
    "        t1 = temp1\n",
    "\n",
    "        # We compute Mean Squared Error\n",
    "        e = sum([(t0 + t1*x[i] - y[i])**2 for i in range(m)]) \n",
    "\n",
    "        if abs(J-e) <= eps:\n",
    "            print('Converged, iterations: ', iter)\n",
    "            HasConverged = True\n",
    "            \n",
    "        if (iter % steps ==0): print(\"Iter: \", iter, \n",
    "                                     \" Error:\",e, \n",
    "                                     \" J-e:\",abs(J-e))    \n",
    "    \n",
    "        J = e      # We update error \n",
    "        iter += 1  # We update iter\n",
    "    \n",
    "        if iter == max_iter:\n",
    "            print('Max interactions exceeded!')\n",
    "            converged = True\n",
    "\n",
    "    return t0,t1"
   ]
  },
  {
   "cell_type": "code",
   "execution_count": 445,
   "metadata": {
    "pycharm": {
     "is_executing": false
    }
   },
   "outputs": [
    {
     "name": "stdout",
     "output_type": "stream",
     "text": [
      "x.shape = (100, 1) y.shape = (100,)\n"
     ]
    }
   ],
   "source": [
    "if __name__ == '__main__':\n",
    "\n",
    "#   We create the Data     \n",
    "    x, y = make_regression(n_samples=100, n_features=1, n_informative=1, \n",
    "                        random_state=0, noise=35) \n",
    "    print('x.shape = %s y.shape = %s' %(x.shape, y.shape))\n",
    "    \n",
    "# We choose some hyperparameters  \n",
    "    alpha = 0.2 # learning rate\n",
    "    ep = 0.01 # convergence criteria"
   ]
  },
  {
   "cell_type": "code",
   "execution_count": 446,
   "metadata": {
    "pycharm": {
     "is_executing": false
    }
   },
   "outputs": [
    {
     "name": "stdout",
     "output_type": "stream",
     "text": [
      "Number of Samples: 100\n",
      "Initial Value of Thetao[0] = [0.24322514]\n",
      "Initial Value of Theta1[0] = [0.99156682]\n",
      "Total Initial Error J:  [320903.52799641]\n",
      "Iter:  0  Error: [260888.04008634]  J-e: [60015.48791007]\n",
      "Iter:  25  Error: [139898.85563137]  J-e: [5.94314904]\n",
      "Iter:  50  Error: [139879.10221092]  J-e: [0.01926749]\n",
      "Converged, iterations:  54\n",
      "Computed value\n",
      "Theta0 = [-3.02146703]       Theta1 = [42.81762957]\n",
      "Intercept = -2.8496363946075403 Slope = 43.20424388023939\n",
      "Error on Slope [0.38661431]\n",
      "Error on Intercept [0.17183064]\n"
     ]
    },
    {
     "data": {
      "image/png": "[encoded data removed]",
      "text/plain": [
       "<Figure size 432x288 with 1 Axes>"
      ]
     },
     "metadata": {
      "needs_background": "light"
     },
     "output_type": "display_data"
    },
    {
     "name": "stdout",
     "output_type": "stream",
     "text": [
      "Well Done!\n",
      "Wall time: 316 ms\n"
     ]
    }
   ],
   "source": [
    "%%time\n",
    "# We call gradient descent, this gives approximation \n",
    "# of theta0 and theta1\n",
    "theta0, theta1 = Gradient_Method(alpha, x, y, ep, max_iter=1000,\n",
    "                                     steps=25)\n",
    "print(\"Computed value\")\n",
    "print(('Theta0 = %s       Theta1 = %s') %(theta0, theta1)) \n",
    "\n",
    "# We check a good approximation of the \"exact\" value\n",
    "# with scipy linear regression \n",
    "slope, intercept, r_value, p_value, slope_std_error = stats.linregress(x[:,0], y)\n",
    "print(('Intercept = %s Slope = %s') %(intercept, slope))\n",
    "print(\"Error on Slope\", slope-theta1)\n",
    "print(\"Error on Intercept\", intercept-theta0)\n",
    "    \n",
    "# We plot  the data and the line we have computed, i.e.: Y= Theta0 + Theta1 * X\n",
    "for i in range(x.shape[0]):\n",
    "        y_predict = theta0 + theta1*x \n",
    "\n",
    "pylab.plot(x,y,'o')\n",
    "pylab.plot(x,y_predict,'k-')\n",
    "pylab.show()\n",
    "print(\"Well Done!\")"
   ]
  },
  {
   "cell_type": "markdown",
   "metadata": {},
   "source": [
    "## Some remarks\n",
    "#### I have chosen the function  Gradient_Method because: \n",
    "#### it is not really well written, so it can be improved\n",
    "#### First the initial value of  Theta0 and Theta1 are chosen strictly randomly, which is the worst case we can do. We can do a better choice.\n",
    "#### Second, the \"gradient\"  is computed with the full dataset (i.e. the full set of avalaible data), which has a hugh cost again, we can do better, at least initially. "
   ]
  },
  {
   "cell_type": "markdown",
   "metadata": {},
   "source": [
    "## Idea: when you will have your code, \n",
    "## try different (and growing) values of m (number of samples). And use %%time to compare\n",
    "## Examples: \n",
    "### (Small): m=100, m=1000, m=5000 (quite quick)\n",
    "### (Medium): m=100000, m=200000, m=500000  (become slow)\n",
    "### (Large): m=1000000, m=2000000, m=10000000 (can be very slow, be careful)"
   ]
  },
  {
   "attachments": {},
   "cell_type": "markdown",
   "metadata": {
    "collapsed": true
   },
   "source": [
    "# Exercice 1\n",
    "#### Here we choose really randomly the inital  value of Theta0 and Theta1, they are ### what we call Theta0[0] and Theta1[0] in the classical iterative algorithms \n",
    "####(Theta0[i+1] ,Theta1[i+1])=(Theta0[i] ,Theta1[i]) - Lambda * Grad(F(Theta0[i] ,Theta1[i]))\n",
    "\n",
    "#### Propose another method, fast, efficient and usefull (i.e. with a low complexity)\n",
    "#### Implement it, test it, justify it (here)\n",
    "#### Please call your function Gradient_Method_Ex1\n",
    "\n",
    "## Computations without Changing anything:\n",
    "\n",
    "| Sample  | Theta 0 Ini | Theta 1 Ini | Theta 0 Fin  | Theta 1 Fin | Steps | eps  | alpha | time    | Error    | J minus E | Ini J    | Iter |\n",
    "| ------- | ----------- | ----------- | ------------ | ----------- | ----- | ---- | ----- | ------- | -------- | --------- | -------- | ---- |\n",
    "| 100     | 0.69677183  | 0.50446904  | \\-2.81902057 | 43.13937829 | 25    | 0.01 | 0.01  | 864ms   | 139860.8 | 0.014     | 325171.3 | 643  |\n",
    "| 1000    | 0.19175141  | 0.63705183  | 0.89824038   | 81.96178564 | 25    | 0.01 | 0.01  | 10.3s   | 1205909  | 0.01418   | 7661495  | 844  |\n",
    "| 10000   | 0.27220497  | 0.67021344  | \\-0.30422893 | 9.24977633  | 25    | 0.01 | 0.01  | 1 m 23s | 12266130 | 0.015277  | 12990605 | 722  |\n",
    "| 100000  | 0.7876183   | 0.91829285  | 0.20800278   | 79.3211362  | 25    | 0.01 | 0.01  | 22m 30s | 1.23E+08 | 0.015248  | 7.34E+08 | 1047 |\n",
    "| 1000000 | NC          | NC          | NC           | NC          | 25    | 0.01 | 0.01  | \\>4hr   | NC       | NC        | NC       | NC   |\n",
    "\n",
    "\n",
    "### TRIALS: (Random Theta values)\n",
    "\n",
    "#### Trial 1: Adding 1/2 in J(theta) equation\t\t\t\n",
    "| Sample  | Theta 0 Ini | Theta 1 Ini | Theta 0 Fin  | Theta 1 Fin | Steps | eps  | alpha | time   | Error    | J minus E | Ini J    | Iter |\n",
    "| ------- | ----------- | ----------- | ------------ | ----------- | ----- | ---- | ----- | ------ | -------- | --------- | -------- | ---- |\n",
    "| 100     | 0.26423659  | 0.8329894   | \\-2.8399727  | 43.1868806  | 25    | 0.01 | 0.01  | 187ms  | 139864.2 | 0.953441  | 16113369 | 73   |\n",
    "| 1000    | 0.78457948  | 0.00230946  | 0.90321327   | 81.97729987 | 25    | 0.01 | 0.01  | 1.26s  | 1205910  | 0.297354  | 3.88E+09 | 92   |\n",
    "| 10000   | 0.76362757  | 0.09555822  | \\-0.30386276 | 9.25493195  | 25    | 0.01 | 0.01  | 9.58s  | 12266130 | 0.03086   | 6.55E+10 | 81   |\n",
    "| 100000  | 0.6993037   | 0.89488509  | 0.20796707   | 79.32271831 | 25    | 0.01 | 0.01  | 2m 24s | 1.23E+08 | 0.091903  | 3.67E+13 | 111  |\n",
    "| 1000000 | NC          | NC          | NC           | NC          | 25    | 0.01 | 0.01  | \\>2hr  | NC       | NC        | NC       | NC   |\n",
    "\n",
    "###### Can see decrease in number of iterations and required time as compared to given case computation above but still for higher number of samples time complexity was greater.\n",
    "\n",
    "#### Trial 2: Adding 1/2 in J(theta) equation and 1/2m in grad equation\t\t\t\n",
    "| Sample  | Theta 0 Ini | Theta 1 Ini | Theta 0 Fin  | Theta 1 Fin | Steps | eps  | alpha | time         | Error    | J minus E | Ini J    | Iter |\n",
    "| ------- | ----------- | ----------- | ------------ | ----------- | ----- | ---- | ----- | ------------ | -------- | --------- | -------- | ---- |\n",
    "| 100     | 0.09677304  | 0.67187717  | \\-2.83551289 | 43.17685846 | 25    | 0.01 | 0.01  | 292ms        | 139860.6 | 0.052189  | 161819.8 | 142  |\n",
    "| 1000    | 0.98845101  | 0.09647489  | 0.90225831   | 81.97431877 | 25    | 0.01 | 0.01  | 2.23s        | 1205909  | 0.019245  | 3876505  | 182  |\n",
    "| 10000   | 0.33200292  | 0.27307335  | \\-0.30399664 | 9.25393412  | 25    | 0.01 | 0.01  | 19.1s        | 12266130 | 0.022888  | 6529845  | 159  |\n",
    "| 100000  | 0.13108116  | 0.57314066  | 0.20796755   | 79.32239664 | 25    | 0.01 | 0.01  | 4m 50s       | 1.23E+08 | 0.082243  | 3.7E+08  | 221  |\n",
    "| 1000000 | NC          | NC          | NC           | NC          | 25    | 0.01 | 0.01  | Not Computed | NC       | NC        | NC       | NC   |\n",
    "\n",
    "###### Decrease in number of iterations and required time as compared to given case computation but time as well as number of iterations were approx twice from trial 1.\n",
    "\n",
    "#### Trial 3: Implementing Stochastic gradient descent method (alpha = 0.1)\n",
    "\n",
    "| Sample | Theta 0 Ini | Theta 1 Ini | Theta 0 Fin  | Theta 1 Fin | Steps | eps  | alpha | time  | Error    | J minus E | Ini J    | Iter |\n",
    "| ------ | ----------- | ----------- | ------------ | ----------- | ----- | ---- | ----- | ----- | -------- | --------- | -------- | ---- |\n",
    "| 100    | 0.41820816  | 0.66624716  | \\-2.93550066 | 43.0088309  | 25    | 0.01 | 0.1   | 269ms | 139865.5 | 0.077908  | 323724.4 | 94   |\n",
    "| 1000   | 0.06467464  | 0.50666308  | 0.88241652   | 81.98624243 | 25    | 0.01 | 0.1   | 1.66s | 1205911  | 0.506662  | 7681474  | 92   |\n",
    "| 10000  | 0.45631235  | 0.63151107  | \\-0.30913241 | 9.25612137  | 25    | 0.01 | 0.1   | 16.2s | 12266130 | 0.029617  | 13000157 | 79   |\n",
    "| 100000 | 0.13131007  | 0.07067743  | 0.20632711   | 79.32273849 | 25    | 0.01 | 0.1   | 4m 8s | 1.23E+08 | 0.250569  | 7.48E+08 | 116  |\n",
    "\n",
    "###### With change in alpha value from 0.01 to 0.1, better results observed at 0.1. Though complexity remain unchanged as for trial 2, but number of iterations decreased to half for each dataset.\n",
    "\n",
    "#### Trial 4: Implementing Stochastic gradient descent method (alpha = 0.2)\n",
    "\n",
    "| Sample | Theta 0 Ini | Theta 1 Ini | Theta 0 Fin  | Theta 1 Fin | Steps | eps  | alpha | time   | Error    | J minus E | Ini J    | Iter |\n",
    "| ------ | ----------- | ----------- | ------------ | ----------- | ----- | ---- | ----- | ------ | -------- | --------- | -------- | ---- |\n",
    "| 100    | 0.01284637  | 0.12560546  | \\-2.84283898 | 43.1929847  | 25    | 0.01 | 0.2   | 154ms  | 139862   | 1.023874  | 28.60349 | 36   |\n",
    "| 1000   | 0.46746621  | 0.95911915  | 0.90425964   | 81.9803357  | 25    | 0.01 | 0.2   | 686ms  | 1205999  | 47.90874  | 3228.657 | 46   |\n",
    "| 10000  | 0.49961333  | 0.02967459  | \\-0.30387266 | 9.25568592  | 25    | 0.01 | 0.2   | 5.15s  | 12266140 | 5.615929  | 9734.549 | 40   |\n",
    "| 100000 | 0.87006852  | 0.61139427  | 0.20796283   | 79.32295089 | 25    | 0.01 | 0.2   | 1m 24s | 1.23E+08 | 0.051426  | 53801.19 | 54   |\n",
    "\n",
    "###### With change in alpha from 0.1 to 0.2, again better results obtained at 0.2. Number of iterations were less but for higher samples (10000000) the time required was almost more than 5 hrs (whole night). With increase in learning rate for large samples, the chances of bouncing steps could be possible.\n",
    "\n",
    "### Proposed Methods: (Fix Theta value = 1 )\n",
    "\n",
    "#### Using Numpy\n",
    "##### Instead of doing summation of the samples in dataset, using dot product in numpy which gives more faster computation. As x.shape is (m, 1) and y is (m,)\n",
    "##### To match the dimensions for dot product, we add another column at first position in x array.\n",
    "##### Total Error is calculated with batch method and after getting the gradient value with batch method only we are calculating mean square error.\n",
    "\n",
    "| Sample   | Theta 0 Ini | Theta 1 Ini | Theta 0 Fin  | Theta 1 Fin | Steps | eps  | alpha | time   | Error    | J minus E | Ini J    | Iter |\n",
    "| -------- | ----------- | ----------- | ------------ | ----------- | ----- | ---- | ----- | ------ | -------- | --------- | -------- | ---- |\n",
    "| 100      | 1           | 1           | \\-2.54148803 | 42.24628171 | 25    | 0.01 | 0.01  | 128ms  | 700.0854 | 0.015733  | 1604.873 | 373  |\n",
    "| 1000     | 1           | 1           | 0.71293834   | 80.97454472 | 25    | 0.01 | 0.01  | 201ms  | 603.7451 | 0.015449  | 3804.711 | 448  |\n",
    "| 10000    | 1           | 1           | \\-0.19251681 | 8.259133489 | 25    | 0.01 | 0.01  | 643ms  | 613.9573 | 0.012953  | 647.6119 | 214  |\n",
    "| 100000   | 1           | 1           | 0.22457997   | 78.33093248 | 25    | 0.01 | 0.01  | 11.1s  | 615.0954 | 0.012327  | 3665.684 | 436  |\n",
    "| 1000000  | 1           | 1           | 0.01986483   | 80.20895416 | 25    | 0.01 | 0.01  | 1m 28s | 611.2015 | 0.012492  | 3825.865 | 437  |\n",
    "| 10000000 | 1           | 1           | 0.01218412   | 74.51985562 | 25    | 0.01 | 0.01  | 15m 5s | 612.7972 | 0.010805  | 3387.409 | 429  |\n",
    "\n",
    "##### By implementing and testing this method, time and number of iterations are better."
   ]
  },
  {
   "cell_type": "code",
   "execution_count": 303,
   "metadata": {
    "pycharm": {
     "is_executing": false
    }
   },
   "outputs": [],
   "source": [
    "def Gradient_Method_Ex1(alpha, x, y, eps=0.0001, max_iter=1000, steps=10):\n",
    "    \n",
    "    HasConverged = False\n",
    "    iter = 0        \n",
    "    m = x.shape[0] # number of samples    \n",
    "    x = np.c_[ np.ones(m), x]\n",
    "    theta = np.ones(2)    \n",
    "    \n",
    "    print(\"Number of Samples:\", m)\n",
    "\n",
    "    # initial value for theta  : chosen randomly\n",
    "    # Theta=(Theta0[0],Theta1[0]) in IR^2\n",
    "    # Theta0[0] -> t0 in IR\n",
    "    # Theta1[0] -> t1 in IR\n",
    "    \n",
    "    t0 = theta[0]\n",
    "    t1 = theta[1]\n",
    "    print(\"Initial Value of Thetao[0] =\", t0)\n",
    "    print(\"Initial Value of Theta1[0] =\", t1)    \n",
    "    \n",
    "    # The total error, J(theta)  is defined as\n",
    "    J = (1/(2*m)) * sum((np.dot(x, theta) - y)**2)\n",
    "    print(\"Total Initial Error J: \", J)\n",
    "    \n",
    "    # The Iteration Loop\n",
    "    while not HasConverged:        \n",
    "        \n",
    "        grad = (1/m) * np.dot(x.transpose(), (np.dot(x, theta) - y))\n",
    "        theta = theta - alpha * grad\n",
    "        \n",
    "        # We compute Mean Squared Error\n",
    "        e = (1/(2*m)) * sum((np.dot(x, theta) - y)**2)        \n",
    "        if abs(J-e) <= eps:\n",
    "            print('Converged, iterations: ', iter)\n",
    "            HasConverged = True\n",
    "\n",
    "        if (iter % steps ==0): print(\"Iter: \", iter, \n",
    "                                     \" Error:\",e, \n",
    "                                     \" J-e:\",abs(J-e))    \n",
    "\n",
    "        J = e      # We update error \n",
    "        iter += 1  # We update iter                \n",
    "        \n",
    "        if iter == max_iter:\n",
    "            print('Max interactions exceeded!')\n",
    "            converged = True        \n",
    "            \n",
    "    return theta[0], theta[1]    "
   ]
  },
  {
   "cell_type": "code",
   "execution_count": 325,
   "metadata": {
    "pycharm": {
     "is_executing": false
    }
   },
   "outputs": [
    {
     "name": "stdout",
     "output_type": "stream",
     "text": [
      "x.shape = (1000000, 1) y.shape = (1000000,)\n"
     ]
    }
   ],
   "source": [
    "if __name__ == '__main__':\n",
    "\n",
    "#   We create the Data     \n",
    "    x, y = make_regression(n_samples=1000000, n_features=1, n_informative=1, \n",
    "                        random_state=0, noise=35) \n",
    "    print('x.shape = %s y.shape = %s' %(x.shape, y.shape))    \n",
    "    \n",
    "# We choose some hyperparameters  \n",
    "    alpha = 0.01 # learning rate\n",
    "    ep = 0.01 # convergence criteria     "
   ]
  },
  {
   "cell_type": "code",
   "execution_count": 324,
   "metadata": {
    "pycharm": {
     "is_executing": false
    }
   },
   "outputs": [
    {
     "name": "stdout",
     "output_type": "stream",
     "text": [
      "Number of Samples: 1000000\n",
      "Initial Value of Thetao[0] = 1.0\n",
      "Initial Value of Theta1[0] = 1.0\n",
      "Total Initial Error J:  3825.865119039858\n",
      "Iter:  0  Error: 3215.0723770384925  J-e: 610.7927420013657\n",
      "Iter:  25  Error: 624.023703760562  J-e: 3.1512911237659864\n",
      "Iter:  50  Error: 610.6553939478855  J-e: 0.016259744245076035\n",
      "Converged, iterations:  53\n",
      "Computed value\n",
      "Theta0 = 0.006888979406598816       Theta1 = 80.92081108535702\n",
      "Intercept = 0.0010496294035382547 Slope = 81.1922665739614\n",
      "Error on Slope 0.2714554886043885\n",
      "Error on Intercept -0.0058393500030605614\n"
     ]
    },
    {
     "data": {
      "image/png": "[encoded data removed]",
      "text/plain": [
       "<Figure size 432x288 with 1 Axes>"
      ]
     },
     "metadata": {
      "needs_background": "light"
     },
     "output_type": "display_data"
    },
    {
     "name": "stdout",
     "output_type": "stream",
     "text": [
      "Well Done!\n",
      "Wall time: 12.7 s\n"
     ]
    }
   ],
   "source": [
    "%%time\n",
    "# We call gradient descent, this gives approximation \n",
    "# of theta0 and theta1\n",
    "\n",
    "\n",
    "theta0, theta1 = Gradient_Method_Ex1(alpha, x, y, ep, max_iter=1000,\n",
    "                                     steps=25)\n",
    "print(\"Computed value\")\n",
    "print(('Theta0 = %s       Theta1 = %s') %(theta0, theta1)) \n",
    "\n",
    "# We check a good approximation of the \"exact\" value\n",
    "# with scipy linear regression \n",
    "slope, intercept, r_value, p_value, slope_std_error = stats.linregress(x[:,0], y)\n",
    "print(('Intercept = %s Slope = %s') %(intercept, slope))\n",
    "print(\"Error on Slope\", slope-theta1)\n",
    "print(\"Error on Intercept\", intercept-theta0)\n",
    "    \n",
    "# We plot  the data and the line we have computed, i.e.: Y= Theta0 + Theta1 * X\n",
    "for i in range(x.shape[1]):\n",
    "        y_predict = theta0 + theta1*x \n",
    "\n",
    "pylab.plot(x,y,'o')\n",
    "pylab.plot(x,y_predict,'k-')\n",
    "pylab.show()\n",
    "print(\"Well Done!\")\n"
   ]
  },
  {
   "cell_type": "code",
   "execution_count": null,
   "metadata": {},
   "outputs": [],
   "source": []
  },
  {
   "cell_type": "markdown",
   "metadata": {},
   "source": [
    "# Exercice 2\n",
    "#### Here we \"upgrade\", in the function Gradient_Method, the gradient using the \"full batch\", i.e. the full set of avalaible data\n",
    "#### Implement  the \"minibatch\" idea.\n",
    "#### Please call your function Gradient_Method_Ex2\n",
    "\n",
    "## Computations with mini_batch gradient descent implementation\n",
    "\n",
    "\n",
    "| Sample   | Theta 0 Ini | Theta 1 Ini | Theta 0 Fin  | Theta 1 Fin | Steps | eps  | alpha | time   | Error    | J minus E | Ini J    | Iter |\n",
    "| -------- | ----------- | ----------- | ------------ | ----------- | ----- | ---- | ----- | ------ | -------- | --------- | -------- | ---- |\n",
    "| 100      | 0.84749002  | 0.76545551  | \\-2.9354679  | 43.00882074 | 25    | 0.01 | 0.01  | 316ms  | 139865.5 | 0.077732  | 322949.9 | 94   |\n",
    "| 1000     | 0.35807687  | 0.90481815  | 0.72234296   | 82.07779906 | 25    | 0.01 | 0.01  | 388ms  | 2110144  | 5509918   | 7620063  | 13   |\n",
    "| 10000    | 0.29877773  | 0.95662139  | \\-0.98469815 | 8.98194662  | 25    | 0.01 | 0.01  | 760ms  | 12271438 | 672314.7  | 12943753 | 2    |\n",
    "| 100000   | 0.57125933  | 0.78206484  | \\-0.42785141 | 80.49694913 | 25    | 0.01 | 0.01  | 4.67s  | 1.23E+08 | 6.13E+08  | 7.36E+08 | 1    |\n",
    "| 1000000  | 0.0847954   | 0.39305143  | 0.52290853   | 80.26752228 | 25    | 0.01 | 0.01  | 47.2s  | 1.22E+09 | 6.53E+09  | 7.75E+09 | 1    |\n",
    "| 10000000 | 0.14385065  | 0.6742215   | 0.64983568   | 75.68272054 | 25    | 0.01 | 0.01  | 7m 41s | 1.22E+10 | 5.6E+10   | 6.82E+10 | 1    |\n",
    "\n",
    "#### Implementing mini_batch gradient descent, gives less number of iterations as well as time required is less compared to batch and stochastic algorithm.\n",
    "#### Batch size: 10"
   ]
  },
  {
   "cell_type": "code",
   "execution_count": 432,
   "metadata": {
    "pycharm": {
     "is_executing": false
    }
   },
   "outputs": [],
   "source": [
    "def Gradient_Method_Ex2(alpha, x, y, eps=0.0001, max_iter=1000, steps=10):\n",
    "    HasConverged = False\n",
    "    iter = 0\n",
    "    m = x.shape[0] # number of samples    \n",
    "    \n",
    "    print(\"Number of Samples:\", m)\n",
    "\n",
    "    # initial value for theta  : chosen randomly\n",
    "    # Theta=(Theta0[0],Theta1[0]) in IR^2\n",
    "    # Theta0[0] -> t0 in IR\n",
    "    # Theta1[0] -> t1 in IR\n",
    "    t0 = np.random.random(x.shape[1])\n",
    "    t1 = np.random.random(x.shape[1])\n",
    "    print(\"Initial Value of Thetao[0] =\", t0)\n",
    "    print(\"Initial Value of Theta1[0] =\", t1)\n",
    "\n",
    "    # The total error, J(theta)  is defined as\n",
    "    J = sum([(t0 + t1*x[i] - y[i])**2 for i in range(m)])\n",
    "    print(\"Total Initial Error J: \", J)\n",
    "\n",
    "    # The Iteration Loop\n",
    "    while not HasConverged:\n",
    "        # for each training sample, compute the gradient (d/d_theta j(theta))\n",
    "        # following: \n",
    "        \n",
    "        for i in range(0, m, m//10):\n",
    "            for j in range(i, i+(m//10)):\n",
    "                grad0 = 0.1 * sum([(t0 + t1*x[j] - y[j])]) \n",
    "                grad1 = 0.1 * sum([(t0 + t1*x[j] - y[j])*x[j]])\n",
    "\n",
    "                # We update the theta_temp\n",
    "                temp0 = t0 - alpha * grad0        \n",
    "                temp1 = t1 - alpha * grad1\n",
    "\n",
    "\n",
    "                # We update theta\n",
    "                t0 = temp0\n",
    "                t1 = temp1\n",
    "\n",
    "        # We compute Mean Squared Error\n",
    "        e = sum([(t0 + t1*x[i] - y[i])**2 for i in range(m)]) \n",
    "\n",
    "        if abs(J-e) <= eps:\n",
    "            print('Converged, iterations: ', iter)\n",
    "            HasConverged = True\n",
    "\n",
    "        if (iter % steps ==0): print(\"Iter: \", iter, \n",
    "                                     \" Error:\",e, \n",
    "                                     \" J-e:\",abs(J-e))    \n",
    "\n",
    "        J = e      # We update error \n",
    "        iter += 1  # We update iter\n",
    "\n",
    "        if iter == max_iter:\n",
    "            print('Max interactions exceeded!')\n",
    "            converged = True\n",
    "\n",
    "    return t0,t1"
   ]
  },
  {
   "cell_type": "code",
   "execution_count": 443,
   "metadata": {},
   "outputs": [
    {
     "name": "stdout",
     "output_type": "stream",
     "text": [
      "x.shape = (10000000, 1) y.shape = (10000000,)\n"
     ]
    }
   ],
   "source": [
    "if __name__ == '__main__':\n",
    "\n",
    "#   We create the Data     \n",
    "    x, y = make_regression(n_samples=10000000, n_features=1, n_informative=1, \n",
    "                        random_state=0, noise=35) \n",
    "    print('x.shape = %s y.shape = %s' %(x.shape, y.shape))    \n",
    "    \n",
    "# We choose some hyperparameters  \n",
    "    alpha = 0.01 # learning rate\n",
    "    ep = 0.01 # convergence criteria     "
   ]
  },
  {
   "cell_type": "code",
   "execution_count": 444,
   "metadata": {},
   "outputs": [
    {
     "name": "stdout",
     "output_type": "stream",
     "text": [
      "Number of Samples: 10000000\n",
      "Initial Value of Thetao[0] = [0.14385065]\n",
      "Initial Value of Theta1[0] = [0.6742215]\n",
      "Total Initial Error J:  [6.82250468e+10]\n",
      "Iter:  0  Error: [1.22498444e+10]  J-e: [5.59752023e+10]\n",
      "Converged, iterations:  1\n",
      "Computed value\n",
      "Theta0 = [0.64983568]       Theta1 = [75.68272054]\n",
      "Intercept = -0.0024287020354418695 Slope = 75.51124926556906\n",
      "Error on Slope [-0.17147127]\n",
      "Error on Intercept [-0.65226438]\n"
     ]
    },
    {
     "data": {
      "image/png": "[encoded data removed]",
      "text/plain": [
       "<Figure size 432x288 with 1 Axes>"
      ]
     },
     "metadata": {
      "needs_background": "light"
     },
     "output_type": "display_data"
    },
    {
     "name": "stdout",
     "output_type": "stream",
     "text": [
      "Well Done!\n",
      "Wall time: 7min 41s\n"
     ]
    }
   ],
   "source": [
    "%%time\n",
    "# We call gradient descent, this gives approximation \n",
    "# of theta0 and theta1\n",
    "\n",
    "\n",
    "theta0, theta1 = Gradient_Method_Ex2(alpha, x, y, ep, max_iter=1000,\n",
    "                                     steps=25)\n",
    "print(\"Computed value\")\n",
    "print(('Theta0 = %s       Theta1 = %s') %(theta0, theta1)) \n",
    "\n",
    "# We check a good approximation of the \"exact\" value\n",
    "# with scipy linear regression \n",
    "slope, intercept, r_value, p_value, slope_std_error = stats.linregress(x[:,0], y)\n",
    "print(('Intercept = %s Slope = %s') %(intercept, slope))\n",
    "print(\"Error on Slope\", slope-theta1)\n",
    "print(\"Error on Intercept\", intercept-theta0)\n",
    "    \n",
    "# We plot  the data and the line we have computed, i.e.: Y= Theta0 + Theta1 * X\n",
    "for i in range(x.shape[1]):\n",
    "        y_predict = theta0 + theta1*x \n",
    "\n",
    "pylab.plot(x,y,'o')\n",
    "pylab.plot(x,y_predict,'k-')\n",
    "pylab.show()\n",
    "print(\"Well Done!\")"
   ]
  },
  {
   "cell_type": "code",
   "execution_count": null,
   "metadata": {},
   "outputs": [],
   "source": []
  }
 ],
 "metadata": {
  "kernelspec": {
   "display_name": "Python 3",
   "language": "python",
   "name": "python3"
  },
  "language_info": {
   "codemirror_mode": {
    "name": "ipython",
    "version": 3
   },
   "file_extension": ".py",
   "mimetype": "text/x-python",
   "name": "python",
   "nbconvert_exporter": "python",
   "pygments_lexer": "ipython3",
   "version": "3.8.1"
  },
  "pycharm": {
   "stem_cell": {
    "cell_type": "raw",
    "metadata": {
     "collapsed": false
    },
    "source": []
   }
  }
 },
 "nbformat": 4,
 "nbformat_minor": 2
}
